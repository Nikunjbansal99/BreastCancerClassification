{
  "nbformat": 4,
  "nbformat_minor": 0,
  "metadata": {
    "colab": {
      "name": "BreastCancerClassification.ipynb",
      "provenance": [],
      "collapsed_sections": [],
      "include_colab_link": true
    },
    "kernelspec": {
      "name": "python3",
      "display_name": "Python 3"
    }
  },
  "cells": [
    {
      "cell_type": "markdown",
      "metadata": {
        "id": "view-in-github",
        "colab_type": "text"
      },
      "source": [
        "<a href=\"https://colab.research.google.com/github/Nikunjbansal99/BreastCancerClassification/blob/main/BreastCancerClassification.ipynb\" target=\"_parent\"><img src=\"https://colab.research.google.com/assets/colab-badge.svg\" alt=\"Open In Colab\"/></a>"
      ]
    },
    {
      "cell_type": "markdown",
      "metadata": {
        "id": "fiRD6YSSyNVD"
      },
      "source": [
        "# **Methodology**"
      ]
    },
    {
      "cell_type": "markdown",
      "metadata": {
        "id": "WpReS1eEySYj"
      },
      "source": [
        "\n",
        "*   **Importing Some Basic Libraries**\n",
        "*   **Importing Data**\n",
        "    * **Assigning Column's Name**\n",
        "*   **Performing Descriptive Analysis on the dataset**\n",
        "*   **Checking null values**\n",
        "    * **Removing Rows/Tuples Containing Symbols in place of value**\n",
        "    * **Reseting Index**\n",
        "*   **Analysis of Target Variable**\n",
        "*   **Doing Upsampling on Minority Class**\n",
        "*   **Plotting Correlation Matrix and Heat Map**\n",
        "*   **Perform Analysis using Distplot**\n",
        "*   **Splitting train_df into 70% and 30% to construct Training data and Testing data respectively**\n",
        "*   **Implementing Decision Tree Classifier**\n",
        "*   **Implementing Perceptron Classifier**\n",
        "*   **Implementing K-Nearest Neighbour Classifier**\n",
        "*   **Performing Prediction on Training Data**\n",
        "*   **Performing Prediction on Testing Data**\n",
        "*   **For Training data, Evaluating all Model's based on Confusion Matrix and Classification Report for each model**\n",
        "*   **For Testing data, Evaluating all Model's based on Confusion Matrix and Classification Report for each model**\n",
        "*   **Save predictions of best Model on Testing data in .csv format**"
      ]
    },
    {
      "cell_type": "markdown",
      "metadata": {
        "id": "NsTeYKU1i8kn"
      },
      "source": [
        "# **Importing Some Basic Libraries**"
      ]
    },
    {
      "cell_type": "code",
      "metadata": {
        "id": "FDrOlV9tlxiW"
      },
      "source": [
        "import pandas as pd\n",
        "import numpy as np\n",
        "import seaborn as sns\n",
        "import sys, os\n",
        "from matplotlib import pyplot as plt\n",
        "from sklearn.utils import resample\n",
        "from sklearn.model_selection import train_test_split\n",
        "from sklearn.tree import DecisionTreeClassifier \n",
        "from sklearn.neighbors import KNeighborsClassifier\n",
        "from sklearn.linear_model import Perceptron\n",
        "from sklearn.metrics import accuracy_score \n",
        "from sklearn.model_selection import train_test_split\n",
        "from sklearn.metrics import classification_report, confusion_matrix"
      ],
      "execution_count": null,
      "outputs": []
    },
    {
      "cell_type": "markdown",
      "metadata": {
        "id": "3yzClrp5jFWl"
      },
      "source": [
        "# **Importing Data**"
      ]
    },
    {
      "cell_type": "code",
      "metadata": {
        "id": "QThSA36sOYJS",
        "colab": {
          "base_uri": "https://localhost:8080/"
        },
        "outputId": "929af066-4ccd-45d5-9fe5-fe607bde8674"
      },
      "source": [
        "from google.colab import drive\n",
        "drive.mount('/content/gdrive')"
      ],
      "execution_count": null,
      "outputs": [
        {
          "output_type": "stream",
          "text": [
            "Mounted at /content/gdrive\n"
          ],
          "name": "stdout"
        }
      ]
    },
    {
      "cell_type": "code",
      "metadata": {
        "trusted": true,
        "_kg_hide-input": true,
        "id": "mgD5zlZfyej6"
      },
      "source": [
        "input_data_dir = \"/content/gdrive/My Drive/Additional_Tasks/\"\n",
        "full_df = pd.read_csv(os.path.join(input_data_dir, \"breast-cancer-wisconsin.data\"),header=None)"
      ],
      "execution_count": null,
      "outputs": []
    },
    {
      "cell_type": "markdown",
      "metadata": {
        "id": "Z2lLlDVWv2q0"
      },
      "source": [
        "### **Assigning Column's Name :**"
      ]
    },
    {
      "cell_type": "code",
      "metadata": {
        "id": "Qd-ScPZjTUo6"
      },
      "source": [
        "new_header = ['Smpl_code_num','Clump_Thickness','Unif_Cell_Size','Unif_Cell_Shape','Marginal_Adhesion','Single_Epith_Cell_Size','Bare_Nuclei','Bland_Chromatin','Normal_Nucleoli','Mitoses','Class']"
      ],
      "execution_count": null,
      "outputs": []
    },
    {
      "cell_type": "code",
      "metadata": {
        "id": "cFzh6y7VUcAe"
      },
      "source": [
        "full_df.columns = new_header "
      ],
      "execution_count": null,
      "outputs": []
    },
    {
      "cell_type": "code",
      "metadata": {
        "id": "3B2D63L7xWHT",
        "colab": {
          "base_uri": "https://localhost:8080/",
          "height": 214
        },
        "outputId": "efe4bf6a-05a0-4189-ef08-356c1cbc931a"
      },
      "source": [
        "full_df.head()"
      ],
      "execution_count": null,
      "outputs": [
        {
          "output_type": "execute_result",
          "data": {
            "text/html": [
              "<div>\n",
              "<style scoped>\n",
              "    .dataframe tbody tr th:only-of-type {\n",
              "        vertical-align: middle;\n",
              "    }\n",
              "\n",
              "    .dataframe tbody tr th {\n",
              "        vertical-align: top;\n",
              "    }\n",
              "\n",
              "    .dataframe thead th {\n",
              "        text-align: right;\n",
              "    }\n",
              "</style>\n",
              "<table border=\"1\" class=\"dataframe\">\n",
              "  <thead>\n",
              "    <tr style=\"text-align: right;\">\n",
              "      <th></th>\n",
              "      <th>Smpl_code_num</th>\n",
              "      <th>Clump_Thickness</th>\n",
              "      <th>Unif_Cell_Size</th>\n",
              "      <th>Unif_Cell_Shape</th>\n",
              "      <th>Marginal_Adhesion</th>\n",
              "      <th>Single_Epith_Cell_Size</th>\n",
              "      <th>Bare_Nuclei</th>\n",
              "      <th>Bland_Chromatin</th>\n",
              "      <th>Normal_Nucleoli</th>\n",
              "      <th>Mitoses</th>\n",
              "      <th>Class</th>\n",
              "    </tr>\n",
              "  </thead>\n",
              "  <tbody>\n",
              "    <tr>\n",
              "      <th>0</th>\n",
              "      <td>1000025</td>\n",
              "      <td>5</td>\n",
              "      <td>1</td>\n",
              "      <td>1</td>\n",
              "      <td>1</td>\n",
              "      <td>2</td>\n",
              "      <td>1</td>\n",
              "      <td>3</td>\n",
              "      <td>1</td>\n",
              "      <td>1</td>\n",
              "      <td>2</td>\n",
              "    </tr>\n",
              "    <tr>\n",
              "      <th>1</th>\n",
              "      <td>1002945</td>\n",
              "      <td>5</td>\n",
              "      <td>4</td>\n",
              "      <td>4</td>\n",
              "      <td>5</td>\n",
              "      <td>7</td>\n",
              "      <td>10</td>\n",
              "      <td>3</td>\n",
              "      <td>2</td>\n",
              "      <td>1</td>\n",
              "      <td>2</td>\n",
              "    </tr>\n",
              "    <tr>\n",
              "      <th>2</th>\n",
              "      <td>1015425</td>\n",
              "      <td>3</td>\n",
              "      <td>1</td>\n",
              "      <td>1</td>\n",
              "      <td>1</td>\n",
              "      <td>2</td>\n",
              "      <td>2</td>\n",
              "      <td>3</td>\n",
              "      <td>1</td>\n",
              "      <td>1</td>\n",
              "      <td>2</td>\n",
              "    </tr>\n",
              "    <tr>\n",
              "      <th>3</th>\n",
              "      <td>1016277</td>\n",
              "      <td>6</td>\n",
              "      <td>8</td>\n",
              "      <td>8</td>\n",
              "      <td>1</td>\n",
              "      <td>3</td>\n",
              "      <td>4</td>\n",
              "      <td>3</td>\n",
              "      <td>7</td>\n",
              "      <td>1</td>\n",
              "      <td>2</td>\n",
              "    </tr>\n",
              "    <tr>\n",
              "      <th>4</th>\n",
              "      <td>1017023</td>\n",
              "      <td>4</td>\n",
              "      <td>1</td>\n",
              "      <td>1</td>\n",
              "      <td>3</td>\n",
              "      <td>2</td>\n",
              "      <td>1</td>\n",
              "      <td>3</td>\n",
              "      <td>1</td>\n",
              "      <td>1</td>\n",
              "      <td>2</td>\n",
              "    </tr>\n",
              "  </tbody>\n",
              "</table>\n",
              "</div>"
            ],
            "text/plain": [
              "   Smpl_code_num  Clump_Thickness  ...  Mitoses  Class\n",
              "0        1000025                5  ...        1      2\n",
              "1        1002945                5  ...        1      2\n",
              "2        1015425                3  ...        1      2\n",
              "3        1016277                6  ...        1      2\n",
              "4        1017023                4  ...        1      2\n",
              "\n",
              "[5 rows x 11 columns]"
            ]
          },
          "metadata": {
            "tags": []
          },
          "execution_count": 23
        }
      ]
    },
    {
      "cell_type": "markdown",
      "metadata": {
        "id": "5I8rZpuTrle_"
      },
      "source": [
        "# **Descriptive Analysis of the dataset**"
      ]
    },
    {
      "cell_type": "code",
      "metadata": {
        "trusted": true,
        "id": "65rq-BSYrlfE",
        "colab": {
          "base_uri": "https://localhost:8080/"
        },
        "outputId": "9e634fad-f12e-443a-f2f1-21c8299bbb21"
      },
      "source": [
        "print(\"Size of Breast Cancer dataset       : {}\".format(full_df.shape))"
      ],
      "execution_count": null,
      "outputs": [
        {
          "output_type": "stream",
          "text": [
            "Size of Breast Cancer dataset       : (699, 11)\n"
          ],
          "name": "stdout"
        }
      ]
    },
    {
      "cell_type": "markdown",
      "metadata": {
        "id": "Ex0Pj2NVrlfN"
      },
      "source": [
        "## **Data Description**"
      ]
    },
    {
      "cell_type": "markdown",
      "metadata": {
        "id": "AyGfYywjbd6j"
      },
      "source": [
        "   ##  Attribute                \n",
        "   -- -----------------------------------------\n",
        "   1. Sample code number        \n",
        "   2. Clump Thickness             \n",
        "   3. Uniformity of Cell Size     \n",
        "   4. Uniformity of Cell Shape    \n",
        "   5. Marginal Adhesion           \n",
        "   6. Single Epithelial Cell Size \n",
        "   7. Bare Nuclei                \n",
        "   8. Bland Chromatin            \n",
        "   9. Normal Nucleoli              \n",
        "   10. Mitoses                    \n",
        "   11. Class                     "
      ]
    },
    {
      "cell_type": "code",
      "metadata": {
        "id": "AOjBt6d-rlfP",
        "colab": {
          "base_uri": "https://localhost:8080/"
        },
        "outputId": "a0d19a0b-9fa6-4241-f833-8856554853a2"
      },
      "source": [
        "full_df.info()"
      ],
      "execution_count": null,
      "outputs": [
        {
          "output_type": "stream",
          "text": [
            "<class 'pandas.core.frame.DataFrame'>\n",
            "RangeIndex: 699 entries, 0 to 698\n",
            "Data columns (total 11 columns):\n",
            " #   Column                  Non-Null Count  Dtype \n",
            "---  ------                  --------------  ----- \n",
            " 0   Smpl_code_num           699 non-null    int64 \n",
            " 1   Clump_Thickness         699 non-null    int64 \n",
            " 2   Unif_Cell_Size          699 non-null    int64 \n",
            " 3   Unif_Cell_Shape         699 non-null    int64 \n",
            " 4   Marginal_Adhesion       699 non-null    int64 \n",
            " 5   Single_Epith_Cell_Size  699 non-null    int64 \n",
            " 6   Bare_Nuclei             699 non-null    object\n",
            " 7   Bland_Chromatin         699 non-null    int64 \n",
            " 8   Normal_Nucleoli         699 non-null    int64 \n",
            " 9   Mitoses                 699 non-null    int64 \n",
            " 10  Class                   699 non-null    int64 \n",
            "dtypes: int64(10), object(1)\n",
            "memory usage: 60.2+ KB\n"
          ],
          "name": "stdout"
        }
      ]
    },
    {
      "cell_type": "code",
      "metadata": {
        "trusted": true,
        "_kg_hide-input": true,
        "id": "wrC8TEXZyekb",
        "colab": {
          "base_uri": "https://localhost:8080/",
          "height": 340
        },
        "outputId": "a49a940a-59cc-4409-b8a7-fe993474a932"
      },
      "source": [
        "full_df.describe().T"
      ],
      "execution_count": null,
      "outputs": [
        {
          "output_type": "execute_result",
          "data": {
            "text/html": [
              "<div>\n",
              "<style scoped>\n",
              "    .dataframe tbody tr th:only-of-type {\n",
              "        vertical-align: middle;\n",
              "    }\n",
              "\n",
              "    .dataframe tbody tr th {\n",
              "        vertical-align: top;\n",
              "    }\n",
              "\n",
              "    .dataframe thead th {\n",
              "        text-align: right;\n",
              "    }\n",
              "</style>\n",
              "<table border=\"1\" class=\"dataframe\">\n",
              "  <thead>\n",
              "    <tr style=\"text-align: right;\">\n",
              "      <th></th>\n",
              "      <th>count</th>\n",
              "      <th>mean</th>\n",
              "      <th>std</th>\n",
              "      <th>min</th>\n",
              "      <th>25%</th>\n",
              "      <th>50%</th>\n",
              "      <th>75%</th>\n",
              "      <th>max</th>\n",
              "    </tr>\n",
              "  </thead>\n",
              "  <tbody>\n",
              "    <tr>\n",
              "      <th>Smpl_code_num</th>\n",
              "      <td>699.0</td>\n",
              "      <td>1.071704e+06</td>\n",
              "      <td>617095.729819</td>\n",
              "      <td>61634.0</td>\n",
              "      <td>870688.5</td>\n",
              "      <td>1171710.0</td>\n",
              "      <td>1238298.0</td>\n",
              "      <td>13454352.0</td>\n",
              "    </tr>\n",
              "    <tr>\n",
              "      <th>Clump_Thickness</th>\n",
              "      <td>699.0</td>\n",
              "      <td>4.417740e+00</td>\n",
              "      <td>2.815741</td>\n",
              "      <td>1.0</td>\n",
              "      <td>2.0</td>\n",
              "      <td>4.0</td>\n",
              "      <td>6.0</td>\n",
              "      <td>10.0</td>\n",
              "    </tr>\n",
              "    <tr>\n",
              "      <th>Unif_Cell_Size</th>\n",
              "      <td>699.0</td>\n",
              "      <td>3.134478e+00</td>\n",
              "      <td>3.051459</td>\n",
              "      <td>1.0</td>\n",
              "      <td>1.0</td>\n",
              "      <td>1.0</td>\n",
              "      <td>5.0</td>\n",
              "      <td>10.0</td>\n",
              "    </tr>\n",
              "    <tr>\n",
              "      <th>Unif_Cell_Shape</th>\n",
              "      <td>699.0</td>\n",
              "      <td>3.207439e+00</td>\n",
              "      <td>2.971913</td>\n",
              "      <td>1.0</td>\n",
              "      <td>1.0</td>\n",
              "      <td>1.0</td>\n",
              "      <td>5.0</td>\n",
              "      <td>10.0</td>\n",
              "    </tr>\n",
              "    <tr>\n",
              "      <th>Marginal_Adhesion</th>\n",
              "      <td>699.0</td>\n",
              "      <td>2.806867e+00</td>\n",
              "      <td>2.855379</td>\n",
              "      <td>1.0</td>\n",
              "      <td>1.0</td>\n",
              "      <td>1.0</td>\n",
              "      <td>4.0</td>\n",
              "      <td>10.0</td>\n",
              "    </tr>\n",
              "    <tr>\n",
              "      <th>Single_Epith_Cell_Size</th>\n",
              "      <td>699.0</td>\n",
              "      <td>3.216023e+00</td>\n",
              "      <td>2.214300</td>\n",
              "      <td>1.0</td>\n",
              "      <td>2.0</td>\n",
              "      <td>2.0</td>\n",
              "      <td>4.0</td>\n",
              "      <td>10.0</td>\n",
              "    </tr>\n",
              "    <tr>\n",
              "      <th>Bland_Chromatin</th>\n",
              "      <td>699.0</td>\n",
              "      <td>3.437768e+00</td>\n",
              "      <td>2.438364</td>\n",
              "      <td>1.0</td>\n",
              "      <td>2.0</td>\n",
              "      <td>3.0</td>\n",
              "      <td>5.0</td>\n",
              "      <td>10.0</td>\n",
              "    </tr>\n",
              "    <tr>\n",
              "      <th>Normal_Nucleoli</th>\n",
              "      <td>699.0</td>\n",
              "      <td>2.866953e+00</td>\n",
              "      <td>3.053634</td>\n",
              "      <td>1.0</td>\n",
              "      <td>1.0</td>\n",
              "      <td>1.0</td>\n",
              "      <td>4.0</td>\n",
              "      <td>10.0</td>\n",
              "    </tr>\n",
              "    <tr>\n",
              "      <th>Mitoses</th>\n",
              "      <td>699.0</td>\n",
              "      <td>1.589413e+00</td>\n",
              "      <td>1.715078</td>\n",
              "      <td>1.0</td>\n",
              "      <td>1.0</td>\n",
              "      <td>1.0</td>\n",
              "      <td>1.0</td>\n",
              "      <td>10.0</td>\n",
              "    </tr>\n",
              "    <tr>\n",
              "      <th>Class</th>\n",
              "      <td>699.0</td>\n",
              "      <td>2.689557e+00</td>\n",
              "      <td>0.951273</td>\n",
              "      <td>2.0</td>\n",
              "      <td>2.0</td>\n",
              "      <td>2.0</td>\n",
              "      <td>4.0</td>\n",
              "      <td>4.0</td>\n",
              "    </tr>\n",
              "  </tbody>\n",
              "</table>\n",
              "</div>"
            ],
            "text/plain": [
              "                        count          mean  ...        75%         max\n",
              "Smpl_code_num           699.0  1.071704e+06  ...  1238298.0  13454352.0\n",
              "Clump_Thickness         699.0  4.417740e+00  ...        6.0        10.0\n",
              "Unif_Cell_Size          699.0  3.134478e+00  ...        5.0        10.0\n",
              "Unif_Cell_Shape         699.0  3.207439e+00  ...        5.0        10.0\n",
              "Marginal_Adhesion       699.0  2.806867e+00  ...        4.0        10.0\n",
              "Single_Epith_Cell_Size  699.0  3.216023e+00  ...        4.0        10.0\n",
              "Bland_Chromatin         699.0  3.437768e+00  ...        5.0        10.0\n",
              "Normal_Nucleoli         699.0  2.866953e+00  ...        4.0        10.0\n",
              "Mitoses                 699.0  1.589413e+00  ...        1.0        10.0\n",
              "Class                   699.0  2.689557e+00  ...        4.0         4.0\n",
              "\n",
              "[10 rows x 8 columns]"
            ]
          },
          "metadata": {
            "tags": []
          },
          "execution_count": 9
        }
      ]
    },
    {
      "cell_type": "markdown",
      "metadata": {
        "id": "c7RpkMJAwQQj"
      },
      "source": [
        "## **Removing Rows/Tuples Containing Symbols in place of value :**"
      ]
    },
    {
      "cell_type": "code",
      "metadata": {
        "id": "ZOxpY8GoERJ3"
      },
      "source": [
        "for i in new_header:\n",
        "    full_df =  pd.DataFrame(full_df[full_df[i] != '?'])"
      ],
      "execution_count": null,
      "outputs": []
    },
    {
      "cell_type": "markdown",
      "metadata": {
        "id": "0YuIMkEdw7qZ"
      },
      "source": [
        "### **Reseting Index :**"
      ]
    },
    {
      "cell_type": "code",
      "metadata": {
        "id": "W9YvtiIvQyyG"
      },
      "source": [
        "full_df = full_df.reset_index(drop=True)"
      ],
      "execution_count": null,
      "outputs": []
    },
    {
      "cell_type": "code",
      "metadata": {
        "id": "rlDdO9IYP8fx"
      },
      "source": [
        "full_df['Bare_Nuclei'] = full_df['Bare_Nuclei'].astype(int)     # Changing Bare_Nuclei data type from Object to int64"
      ],
      "execution_count": null,
      "outputs": []
    },
    {
      "cell_type": "code",
      "metadata": {
        "colab": {
          "base_uri": "https://localhost:8080/",
          "height": 214
        },
        "id": "4VZ4Sx1lQ6Ds",
        "outputId": "cdc892b1-7822-4fcc-e698-79624d6c768e"
      },
      "source": [
        "full_df.head()"
      ],
      "execution_count": null,
      "outputs": [
        {
          "output_type": "execute_result",
          "data": {
            "text/html": [
              "<div>\n",
              "<style scoped>\n",
              "    .dataframe tbody tr th:only-of-type {\n",
              "        vertical-align: middle;\n",
              "    }\n",
              "\n",
              "    .dataframe tbody tr th {\n",
              "        vertical-align: top;\n",
              "    }\n",
              "\n",
              "    .dataframe thead th {\n",
              "        text-align: right;\n",
              "    }\n",
              "</style>\n",
              "<table border=\"1\" class=\"dataframe\">\n",
              "  <thead>\n",
              "    <tr style=\"text-align: right;\">\n",
              "      <th></th>\n",
              "      <th>index</th>\n",
              "      <th>Smpl_code_num</th>\n",
              "      <th>Clump_Thickness</th>\n",
              "      <th>Unif_Cell_Size</th>\n",
              "      <th>Unif_Cell_Shape</th>\n",
              "      <th>Marginal_Adhesion</th>\n",
              "      <th>Single_Epith_Cell_Size</th>\n",
              "      <th>Bare_Nuclei</th>\n",
              "      <th>Bland_Chromatin</th>\n",
              "      <th>Normal_Nucleoli</th>\n",
              "      <th>Mitoses</th>\n",
              "      <th>Class</th>\n",
              "    </tr>\n",
              "  </thead>\n",
              "  <tbody>\n",
              "    <tr>\n",
              "      <th>0</th>\n",
              "      <td>0</td>\n",
              "      <td>1000025</td>\n",
              "      <td>5</td>\n",
              "      <td>1</td>\n",
              "      <td>1</td>\n",
              "      <td>1</td>\n",
              "      <td>2</td>\n",
              "      <td>1</td>\n",
              "      <td>3</td>\n",
              "      <td>1</td>\n",
              "      <td>1</td>\n",
              "      <td>2</td>\n",
              "    </tr>\n",
              "    <tr>\n",
              "      <th>1</th>\n",
              "      <td>1</td>\n",
              "      <td>1002945</td>\n",
              "      <td>5</td>\n",
              "      <td>4</td>\n",
              "      <td>4</td>\n",
              "      <td>5</td>\n",
              "      <td>7</td>\n",
              "      <td>10</td>\n",
              "      <td>3</td>\n",
              "      <td>2</td>\n",
              "      <td>1</td>\n",
              "      <td>2</td>\n",
              "    </tr>\n",
              "    <tr>\n",
              "      <th>2</th>\n",
              "      <td>2</td>\n",
              "      <td>1015425</td>\n",
              "      <td>3</td>\n",
              "      <td>1</td>\n",
              "      <td>1</td>\n",
              "      <td>1</td>\n",
              "      <td>2</td>\n",
              "      <td>2</td>\n",
              "      <td>3</td>\n",
              "      <td>1</td>\n",
              "      <td>1</td>\n",
              "      <td>2</td>\n",
              "    </tr>\n",
              "    <tr>\n",
              "      <th>3</th>\n",
              "      <td>3</td>\n",
              "      <td>1016277</td>\n",
              "      <td>6</td>\n",
              "      <td>8</td>\n",
              "      <td>8</td>\n",
              "      <td>1</td>\n",
              "      <td>3</td>\n",
              "      <td>4</td>\n",
              "      <td>3</td>\n",
              "      <td>7</td>\n",
              "      <td>1</td>\n",
              "      <td>2</td>\n",
              "    </tr>\n",
              "    <tr>\n",
              "      <th>4</th>\n",
              "      <td>4</td>\n",
              "      <td>1017023</td>\n",
              "      <td>4</td>\n",
              "      <td>1</td>\n",
              "      <td>1</td>\n",
              "      <td>3</td>\n",
              "      <td>2</td>\n",
              "      <td>1</td>\n",
              "      <td>3</td>\n",
              "      <td>1</td>\n",
              "      <td>1</td>\n",
              "      <td>2</td>\n",
              "    </tr>\n",
              "  </tbody>\n",
              "</table>\n",
              "</div>"
            ],
            "text/plain": [
              "   index  Smpl_code_num  Clump_Thickness  ...  Normal_Nucleoli  Mitoses  Class\n",
              "0      0        1000025                5  ...                1        1      2\n",
              "1      1        1002945                5  ...                2        1      2\n",
              "2      2        1015425                3  ...                1        1      2\n",
              "3      3        1016277                6  ...                7        1      2\n",
              "4      4        1017023                4  ...                1        1      2\n",
              "\n",
              "[5 rows x 12 columns]"
            ]
          },
          "metadata": {
            "tags": []
          },
          "execution_count": 27
        }
      ]
    },
    {
      "cell_type": "code",
      "metadata": {
        "id": "HkTGdFtURkkS"
      },
      "source": [
        "full_df = full_df.drop(['Smpl_code_num'], axis=1)"
      ],
      "execution_count": null,
      "outputs": []
    },
    {
      "cell_type": "code",
      "metadata": {
        "colab": {
          "base_uri": "https://localhost:8080/",
          "height": 214
        },
        "id": "EQ931JDxR2xS",
        "outputId": "20dcee0a-5015-48f6-8da3-39e5a26e268f"
      },
      "source": [
        "full_df.head()"
      ],
      "execution_count": null,
      "outputs": [
        {
          "output_type": "execute_result",
          "data": {
            "text/html": [
              "<div>\n",
              "<style scoped>\n",
              "    .dataframe tbody tr th:only-of-type {\n",
              "        vertical-align: middle;\n",
              "    }\n",
              "\n",
              "    .dataframe tbody tr th {\n",
              "        vertical-align: top;\n",
              "    }\n",
              "\n",
              "    .dataframe thead th {\n",
              "        text-align: right;\n",
              "    }\n",
              "</style>\n",
              "<table border=\"1\" class=\"dataframe\">\n",
              "  <thead>\n",
              "    <tr style=\"text-align: right;\">\n",
              "      <th></th>\n",
              "      <th>Clump_Thickness</th>\n",
              "      <th>Unif_Cell_Size</th>\n",
              "      <th>Unif_Cell_Shape</th>\n",
              "      <th>Marginal_Adhesion</th>\n",
              "      <th>Single_Epith_Cell_Size</th>\n",
              "      <th>Bare_Nuclei</th>\n",
              "      <th>Bland_Chromatin</th>\n",
              "      <th>Normal_Nucleoli</th>\n",
              "      <th>Mitoses</th>\n",
              "      <th>Class</th>\n",
              "    </tr>\n",
              "  </thead>\n",
              "  <tbody>\n",
              "    <tr>\n",
              "      <th>0</th>\n",
              "      <td>5</td>\n",
              "      <td>1</td>\n",
              "      <td>1</td>\n",
              "      <td>1</td>\n",
              "      <td>2</td>\n",
              "      <td>1</td>\n",
              "      <td>3</td>\n",
              "      <td>1</td>\n",
              "      <td>1</td>\n",
              "      <td>2</td>\n",
              "    </tr>\n",
              "    <tr>\n",
              "      <th>1</th>\n",
              "      <td>5</td>\n",
              "      <td>4</td>\n",
              "      <td>4</td>\n",
              "      <td>5</td>\n",
              "      <td>7</td>\n",
              "      <td>10</td>\n",
              "      <td>3</td>\n",
              "      <td>2</td>\n",
              "      <td>1</td>\n",
              "      <td>2</td>\n",
              "    </tr>\n",
              "    <tr>\n",
              "      <th>2</th>\n",
              "      <td>3</td>\n",
              "      <td>1</td>\n",
              "      <td>1</td>\n",
              "      <td>1</td>\n",
              "      <td>2</td>\n",
              "      <td>2</td>\n",
              "      <td>3</td>\n",
              "      <td>1</td>\n",
              "      <td>1</td>\n",
              "      <td>2</td>\n",
              "    </tr>\n",
              "    <tr>\n",
              "      <th>3</th>\n",
              "      <td>6</td>\n",
              "      <td>8</td>\n",
              "      <td>8</td>\n",
              "      <td>1</td>\n",
              "      <td>3</td>\n",
              "      <td>4</td>\n",
              "      <td>3</td>\n",
              "      <td>7</td>\n",
              "      <td>1</td>\n",
              "      <td>2</td>\n",
              "    </tr>\n",
              "    <tr>\n",
              "      <th>4</th>\n",
              "      <td>4</td>\n",
              "      <td>1</td>\n",
              "      <td>1</td>\n",
              "      <td>3</td>\n",
              "      <td>2</td>\n",
              "      <td>1</td>\n",
              "      <td>3</td>\n",
              "      <td>1</td>\n",
              "      <td>1</td>\n",
              "      <td>2</td>\n",
              "    </tr>\n",
              "  </tbody>\n",
              "</table>\n",
              "</div>"
            ],
            "text/plain": [
              "   Clump_Thickness  Unif_Cell_Size  ...  Mitoses  Class\n",
              "0                5               1  ...        1      2\n",
              "1                5               4  ...        1      2\n",
              "2                3               1  ...        1      2\n",
              "3                6               8  ...        1      2\n",
              "4                4               1  ...        1      2\n",
              "\n",
              "[5 rows x 10 columns]"
            ]
          },
          "metadata": {
            "tags": []
          },
          "execution_count": 29
        }
      ]
    },
    {
      "cell_type": "markdown",
      "metadata": {
        "id": "i31IFe-u0BF5"
      },
      "source": [
        "## **NULL VALUES**"
      ]
    },
    {
      "cell_type": "code",
      "metadata": {
        "id": "ICqlDLS48vPP",
        "colab": {
          "base_uri": "https://localhost:8080/"
        },
        "outputId": "dce29a23-bf54-49b1-bb12-ff30bf402799"
      },
      "source": [
        "full_df.isna().sum()                        # Printing a count of missing value w.r.t each feature in full_df"
      ],
      "execution_count": null,
      "outputs": [
        {
          "output_type": "execute_result",
          "data": {
            "text/plain": [
              "Clump_Thickness           0\n",
              "Unif_Cell_Size            0\n",
              "Unif_Cell_Shape           0\n",
              "Marginal_Adhesion         0\n",
              "Single_Epith_Cell_Size    0\n",
              "Bare_Nuclei               0\n",
              "Bland_Chromatin           0\n",
              "Normal_Nucleoli           0\n",
              "Mitoses                   0\n",
              "Class                     0\n",
              "dtype: int64"
            ]
          },
          "metadata": {
            "tags": []
          },
          "execution_count": 30
        }
      ]
    },
    {
      "cell_type": "markdown",
      "metadata": {
        "id": "6PMgSC3X2FxM"
      },
      "source": [
        "# **Analysis of Target Variable**"
      ]
    },
    {
      "cell_type": "code",
      "metadata": {
        "id": "aDyAhe-55cV3",
        "colab": {
          "base_uri": "https://localhost:8080/",
          "height": 460
        },
        "outputId": "e472826a-18e3-4498-9b39-873ee10768cc"
      },
      "source": [
        "plt.figure(figsize=(10,7))\n",
        "sns.countplot(x='Class', data=full_df, order=[2, 4] )"
      ],
      "execution_count": null,
      "outputs": [
        {
          "output_type": "execute_result",
          "data": {
            "text/plain": [
              "<matplotlib.axes._subplots.AxesSubplot at 0x7f8e216206d8>"
            ]
          },
          "metadata": {
            "tags": []
          },
          "execution_count": 32
        },
        {
          "output_type": "display_data",
          "data": {
            "image/png": "[encoded data removed]",
            "text/plain": [
              "<Figure size 720x504 with 1 Axes>"
            ]
          },
          "metadata": {
            "tags": [],
            "needs_background": "light"
          }
        }
      ]
    },
    {
      "cell_type": "code",
      "metadata": {
        "id": "uXc3r7IM5VCv",
        "colab": {
          "base_uri": "https://localhost:8080/"
        },
        "outputId": "76ad3d23-cba1-4865-d70c-23561025e5e1"
      },
      "source": [
        "full_df['Class'].value_counts()                  # Prints the count of different classes in 'Class'"
      ],
      "execution_count": null,
      "outputs": [
        {
          "output_type": "execute_result",
          "data": {
            "text/plain": [
              "2    444\n",
              "4    239\n",
              "Name: Class, dtype: int64"
            ]
          },
          "metadata": {
            "tags": []
          },
          "execution_count": 33
        }
      ]
    },
    {
      "cell_type": "markdown",
      "metadata": {
        "id": "fM-N50VpF6t2"
      },
      "source": [
        "**Hence, We found that our data is imbalanced.**"
      ]
    },
    {
      "cell_type": "code",
      "metadata": {
        "id": "F8C_MnjV4Pgn"
      },
      "source": [
        "full_df_benign = full_df[full_df.Class==2]              # MAJORITY\n",
        "full_df_malignant = full_df[full_df.Class==4]           # MINORITY"
      ],
      "execution_count": null,
      "outputs": []
    },
    {
      "cell_type": "markdown",
      "metadata": {
        "id": "_y7TiaylVASr"
      },
      "source": [
        "# **Upsampling**"
      ]
    },
    {
      "cell_type": "code",
      "metadata": {
        "id": "O5kgyQWJU7X4"
      },
      "source": [
        "# Upsample MINORITY Class to make balance data :\n",
        "full_df_malignant_upsampled = resample(full_df_malignant, replace=True, n_samples=444, random_state=8) "
      ],
      "execution_count": null,
      "outputs": []
    },
    {
      "cell_type": "code",
      "metadata": {
        "id": "wFYZgszJpykl",
        "colab": {
          "base_uri": "https://localhost:8080/"
        },
        "outputId": "ae3654bb-f4bb-4174-a753-afb12f3e75f3"
      },
      "source": [
        "# Combine downsampled majority class with upsampled minority class\n",
        "Balanced_full_df = pd.concat([full_df_malignant_upsampled, full_df_benign]).reset_index(drop=True)\n",
        " \n",
        "# Display new class counts\n",
        "Balanced_full_df.Class.value_counts()           # Prints the count of different classes in 'Class'"
      ],
      "execution_count": null,
      "outputs": [
        {
          "output_type": "execute_result",
          "data": {
            "text/plain": [
              "4    444\n",
              "2    444\n",
              "Name: Class, dtype: int64"
            ]
          },
          "metadata": {
            "tags": []
          },
          "execution_count": 38
        }
      ]
    },
    {
      "cell_type": "code",
      "metadata": {
        "colab": {
          "base_uri": "https://localhost:8080/",
          "height": 460
        },
        "id": "OQZSngfNgCQh",
        "outputId": "510ae0f2-ce2b-46c4-96d3-192ba9142d8c"
      },
      "source": [
        "plt.figure(figsize=(10,7))\n",
        "sns.countplot(x='Class', data=Balanced_full_df, order=[2, 4] )"
      ],
      "execution_count": null,
      "outputs": [
        {
          "output_type": "execute_result",
          "data": {
            "text/plain": [
              "<matplotlib.axes._subplots.AxesSubplot at 0x7f8e12afbeb8>"
            ]
          },
          "metadata": {
            "tags": []
          },
          "execution_count": 82
        },
        {
          "output_type": "display_data",
          "data": {
            "image/png": "[encoded data removed]",
            "text/plain": [
              "<Figure size 720x504 with 1 Axes>"
            ]
          },
          "metadata": {
            "tags": []
          }
        }
      ]
    },
    {
      "cell_type": "code",
      "metadata": {
        "id": "pq10Ve_isEjA",
        "colab": {
          "base_uri": "https://localhost:8080/",
          "height": 214
        },
        "outputId": "c915629c-2439-40c1-9915-0cfd26d99cdc"
      },
      "source": [
        "Balanced_full_df.head()"
      ],
      "execution_count": null,
      "outputs": [
        {
          "output_type": "execute_result",
          "data": {
            "text/html": [
              "<div>\n",
              "<style scoped>\n",
              "    .dataframe tbody tr th:only-of-type {\n",
              "        vertical-align: middle;\n",
              "    }\n",
              "\n",
              "    .dataframe tbody tr th {\n",
              "        vertical-align: top;\n",
              "    }\n",
              "\n",
              "    .dataframe thead th {\n",
              "        text-align: right;\n",
              "    }\n",
              "</style>\n",
              "<table border=\"1\" class=\"dataframe\">\n",
              "  <thead>\n",
              "    <tr style=\"text-align: right;\">\n",
              "      <th></th>\n",
              "      <th>Clump_Thickness</th>\n",
              "      <th>Unif_Cell_Size</th>\n",
              "      <th>Unif_Cell_Shape</th>\n",
              "      <th>Marginal_Adhesion</th>\n",
              "      <th>Single_Epith_Cell_Size</th>\n",
              "      <th>Bare_Nuclei</th>\n",
              "      <th>Bland_Chromatin</th>\n",
              "      <th>Normal_Nucleoli</th>\n",
              "      <th>Mitoses</th>\n",
              "      <th>Class</th>\n",
              "    </tr>\n",
              "  </thead>\n",
              "  <tbody>\n",
              "    <tr>\n",
              "      <th>0</th>\n",
              "      <td>8</td>\n",
              "      <td>10</td>\n",
              "      <td>10</td>\n",
              "      <td>10</td>\n",
              "      <td>7</td>\n",
              "      <td>5</td>\n",
              "      <td>4</td>\n",
              "      <td>8</td>\n",
              "      <td>7</td>\n",
              "      <td>4</td>\n",
              "    </tr>\n",
              "    <tr>\n",
              "      <th>1</th>\n",
              "      <td>10</td>\n",
              "      <td>8</td>\n",
              "      <td>8</td>\n",
              "      <td>4</td>\n",
              "      <td>10</td>\n",
              "      <td>10</td>\n",
              "      <td>8</td>\n",
              "      <td>1</td>\n",
              "      <td>1</td>\n",
              "      <td>4</td>\n",
              "    </tr>\n",
              "    <tr>\n",
              "      <th>2</th>\n",
              "      <td>8</td>\n",
              "      <td>10</td>\n",
              "      <td>10</td>\n",
              "      <td>8</td>\n",
              "      <td>6</td>\n",
              "      <td>9</td>\n",
              "      <td>3</td>\n",
              "      <td>10</td>\n",
              "      <td>10</td>\n",
              "      <td>4</td>\n",
              "    </tr>\n",
              "    <tr>\n",
              "      <th>3</th>\n",
              "      <td>5</td>\n",
              "      <td>5</td>\n",
              "      <td>7</td>\n",
              "      <td>8</td>\n",
              "      <td>6</td>\n",
              "      <td>10</td>\n",
              "      <td>7</td>\n",
              "      <td>4</td>\n",
              "      <td>1</td>\n",
              "      <td>4</td>\n",
              "    </tr>\n",
              "    <tr>\n",
              "      <th>4</th>\n",
              "      <td>5</td>\n",
              "      <td>4</td>\n",
              "      <td>6</td>\n",
              "      <td>8</td>\n",
              "      <td>4</td>\n",
              "      <td>1</td>\n",
              "      <td>8</td>\n",
              "      <td>10</td>\n",
              "      <td>1</td>\n",
              "      <td>4</td>\n",
              "    </tr>\n",
              "  </tbody>\n",
              "</table>\n",
              "</div>"
            ],
            "text/plain": [
              "   Clump_Thickness  Unif_Cell_Size  ...  Mitoses  Class\n",
              "0                8              10  ...        7      4\n",
              "1               10               8  ...        1      4\n",
              "2                8              10  ...       10      4\n",
              "3                5               5  ...        1      4\n",
              "4                5               4  ...        1      4\n",
              "\n",
              "[5 rows x 10 columns]"
            ]
          },
          "metadata": {
            "tags": []
          },
          "execution_count": 39
        }
      ]
    },
    {
      "cell_type": "markdown",
      "metadata": {
        "id": "B0brPl2EW0tO"
      },
      "source": [
        "# **Correlation Matrix and Heat Map**"
      ]
    },
    {
      "cell_type": "code",
      "metadata": {
        "id": "9GwyNKpp8Ayg",
        "colab": {
          "base_uri": "https://localhost:8080/",
          "height": 804
        },
        "outputId": "b574de9b-4723-4de5-e787-1ac6a9c8d8fb"
      },
      "source": [
        "corr_data = Balanced_full_df.corr()                     # calculating correlation data between features\n",
        "plt.figure(figsize=(25, 16))                            # setting figure size\n",
        "sns.set_style('ticks')                                  # setting plot style\n",
        "sns.heatmap(corr_data, cmap='viridis',annot=True)       # plotting heatmap using sns library\n",
        "plt.show()"
      ],
      "execution_count": null,
      "outputs": [
        {
          "output_type": "display_data",
          "data": {
            "image/png": "[encoded data removed]",
            "text/plain": [
              "<Figure size 1800x1152 with 2 Axes>"
            ]
          },
          "metadata": {
            "tags": []
          }
        }
      ]
    },
    {
      "cell_type": "code",
      "metadata": {
        "id": "lQWMSdX08Nhh",
        "colab": {
          "base_uri": "https://localhost:8080/",
          "height": 338
        },
        "outputId": "f0f1826c-3b70-4c67-ef25-4c1fcc74b052"
      },
      "source": [
        "corr_data.Class.apply(lambda x: abs(x)).sort_values(ascending=False).iloc[1:10][::-1].plot(kind='barh',color='darkgreen') \n",
        "# calculating top highest correlated features\n",
        "# with respect to target variable i.e. \"Class\"\n",
        "plt.title(\"Top Highly Correlated features\", size=20, pad=26)\n",
        "plt.xlabel(\"Correlation coefficient\")\n",
        "plt.ylabel(\"Features\")"
      ],
      "execution_count": null,
      "outputs": [
        {
          "output_type": "execute_result",
          "data": {
            "text/plain": [
              "Text(0, 0.5, 'Features')"
            ]
          },
          "metadata": {
            "tags": []
          },
          "execution_count": 45
        },
        {
          "output_type": "display_data",
          "data": {
            "image/png": "[encoded data removed]",
            "text/plain": [
              "<Figure size 432x288 with 1 Axes>"
            ]
          },
          "metadata": {
            "tags": []
          }
        }
      ]
    },
    {
      "cell_type": "markdown",
      "metadata": {
        "id": "9FOq7XJdWGtc"
      },
      "source": [
        "# **Perform Analysis on Selected Features:**"
      ]
    },
    {
      "cell_type": "code",
      "metadata": {
        "id": "HyhDbWBS-ldM",
        "colab": {
          "base_uri": "https://localhost:8080/",
          "height": 1000
        },
        "outputId": "01b6f74d-a121-40f6-e957-489c7816ed37"
      },
      "source": [
        "fig = plt.figure(figsize = (20, 15))\n",
        "j = 0\n",
        "for i in full_df.columns:\n",
        "    plt.subplot(3, 4, j+1)\n",
        "    j += 1\n",
        "    sns.distplot(Balanced_full_df[i][Balanced_full_df['Class']==2], color='r', label = 'Benign')\n",
        "    sns.distplot(Balanced_full_df[i][Balanced_full_df['Class']==4], color='b', label = 'Malignant')\n",
        "    plt.legend(loc='best')\n",
        "fig.suptitle('Breast Cancer Data Analysis')\n",
        "fig.tight_layout()\n",
        "fig.subplots_adjust(top=0.90)\n",
        "plt.show()"
      ],
      "execution_count": null,
      "outputs": [
        {
          "output_type": "stream",
          "text": [
            "/usr/local/lib/python3.6/dist-packages/seaborn/distributions.py:2551: FutureWarning: `distplot` is a deprecated function and will be removed in a future version. Please adapt your code to use either `displot` (a figure-level function with similar flexibility) or `histplot` (an axes-level function for histograms).\n",
            "  warnings.warn(msg, FutureWarning)\n",
            "/usr/local/lib/python3.6/dist-packages/seaborn/distributions.py:2551: FutureWarning: `distplot` is a deprecated function and will be removed in a future version. Please adapt your code to use either `displot` (a figure-level function with similar flexibility) or `histplot` (an axes-level function for histograms).\n",
            "  warnings.warn(msg, FutureWarning)\n",
            "/usr/local/lib/python3.6/dist-packages/seaborn/distributions.py:2551: FutureWarning: `distplot` is a deprecated function and will be removed in a future version. Please adapt your code to use either `displot` (a figure-level function with similar flexibility) or `histplot` (an axes-level function for histograms).\n",
            "  warnings.warn(msg, FutureWarning)\n",
            "/usr/local/lib/python3.6/dist-packages/seaborn/distributions.py:2551: FutureWarning: `distplot` is a deprecated function and will be removed in a future version. Please adapt your code to use either `displot` (a figure-level function with similar flexibility) or `histplot` (an axes-level function for histograms).\n",
            "  warnings.warn(msg, FutureWarning)\n",
            "/usr/local/lib/python3.6/dist-packages/seaborn/distributions.py:2551: FutureWarning: `distplot` is a deprecated function and will be removed in a future version. Please adapt your code to use either `displot` (a figure-level function with similar flexibility) or `histplot` (an axes-level function for histograms).\n",
            "  warnings.warn(msg, FutureWarning)\n",
            "/usr/local/lib/python3.6/dist-packages/seaborn/distributions.py:2551: FutureWarning: `distplot` is a deprecated function and will be removed in a future version. Please adapt your code to use either `displot` (a figure-level function with similar flexibility) or `histplot` (an axes-level function for histograms).\n",
            "  warnings.warn(msg, FutureWarning)\n",
            "/usr/local/lib/python3.6/dist-packages/seaborn/distributions.py:2551: FutureWarning: `distplot` is a deprecated function and will be removed in a future version. Please adapt your code to use either `displot` (a figure-level function with similar flexibility) or `histplot` (an axes-level function for histograms).\n",
            "  warnings.warn(msg, FutureWarning)\n",
            "/usr/local/lib/python3.6/dist-packages/seaborn/distributions.py:2551: FutureWarning: `distplot` is a deprecated function and will be removed in a future version. Please adapt your code to use either `displot` (a figure-level function with similar flexibility) or `histplot` (an axes-level function for histograms).\n",
            "  warnings.warn(msg, FutureWarning)\n",
            "/usr/local/lib/python3.6/dist-packages/seaborn/distributions.py:2551: FutureWarning: `distplot` is a deprecated function and will be removed in a future version. Please adapt your code to use either `displot` (a figure-level function with similar flexibility) or `histplot` (an axes-level function for histograms).\n",
            "  warnings.warn(msg, FutureWarning)\n",
            "/usr/local/lib/python3.6/dist-packages/seaborn/distributions.py:2551: FutureWarning: `distplot` is a deprecated function and will be removed in a future version. Please adapt your code to use either `displot` (a figure-level function with similar flexibility) or `histplot` (an axes-level function for histograms).\n",
            "  warnings.warn(msg, FutureWarning)\n",
            "/usr/local/lib/python3.6/dist-packages/seaborn/distributions.py:2551: FutureWarning: `distplot` is a deprecated function and will be removed in a future version. Please adapt your code to use either `displot` (a figure-level function with similar flexibility) or `histplot` (an axes-level function for histograms).\n",
            "  warnings.warn(msg, FutureWarning)\n",
            "/usr/local/lib/python3.6/dist-packages/seaborn/distributions.py:2551: FutureWarning: `distplot` is a deprecated function and will be removed in a future version. Please adapt your code to use either `displot` (a figure-level function with similar flexibility) or `histplot` (an axes-level function for histograms).\n",
            "  warnings.warn(msg, FutureWarning)\n",
            "/usr/local/lib/python3.6/dist-packages/seaborn/distributions.py:2551: FutureWarning: `distplot` is a deprecated function and will be removed in a future version. Please adapt your code to use either `displot` (a figure-level function with similar flexibility) or `histplot` (an axes-level function for histograms).\n",
            "  warnings.warn(msg, FutureWarning)\n",
            "/usr/local/lib/python3.6/dist-packages/seaborn/distributions.py:2551: FutureWarning: `distplot` is a deprecated function and will be removed in a future version. Please adapt your code to use either `displot` (a figure-level function with similar flexibility) or `histplot` (an axes-level function for histograms).\n",
            "  warnings.warn(msg, FutureWarning)\n",
            "/usr/local/lib/python3.6/dist-packages/seaborn/distributions.py:2551: FutureWarning: `distplot` is a deprecated function and will be removed in a future version. Please adapt your code to use either `displot` (a figure-level function with similar flexibility) or `histplot` (an axes-level function for histograms).\n",
            "  warnings.warn(msg, FutureWarning)\n",
            "/usr/local/lib/python3.6/dist-packages/seaborn/distributions.py:2551: FutureWarning: `distplot` is a deprecated function and will be removed in a future version. Please adapt your code to use either `displot` (a figure-level function with similar flexibility) or `histplot` (an axes-level function for histograms).\n",
            "  warnings.warn(msg, FutureWarning)\n",
            "/usr/local/lib/python3.6/dist-packages/seaborn/distributions.py:2551: FutureWarning: `distplot` is a deprecated function and will be removed in a future version. Please adapt your code to use either `displot` (a figure-level function with similar flexibility) or `histplot` (an axes-level function for histograms).\n",
            "  warnings.warn(msg, FutureWarning)\n",
            "/usr/local/lib/python3.6/dist-packages/seaborn/distributions.py:2551: FutureWarning: `distplot` is a deprecated function and will be removed in a future version. Please adapt your code to use either `displot` (a figure-level function with similar flexibility) or `histplot` (an axes-level function for histograms).\n",
            "  warnings.warn(msg, FutureWarning)\n",
            "/usr/local/lib/python3.6/dist-packages/seaborn/distributions.py:2551: FutureWarning: `distplot` is a deprecated function and will be removed in a future version. Please adapt your code to use either `displot` (a figure-level function with similar flexibility) or `histplot` (an axes-level function for histograms).\n",
            "  warnings.warn(msg, FutureWarning)\n",
            "/usr/local/lib/python3.6/dist-packages/seaborn/distributions.py:305: UserWarning: Dataset has 0 variance; skipping density estimate.\n",
            "  warnings.warn(msg, UserWarning)\n",
            "/usr/local/lib/python3.6/dist-packages/seaborn/distributions.py:2551: FutureWarning: `distplot` is a deprecated function and will be removed in a future version. Please adapt your code to use either `displot` (a figure-level function with similar flexibility) or `histplot` (an axes-level function for histograms).\n",
            "  warnings.warn(msg, FutureWarning)\n",
            "/usr/local/lib/python3.6/dist-packages/seaborn/distributions.py:305: UserWarning: Dataset has 0 variance; skipping density estimate.\n",
            "  warnings.warn(msg, UserWarning)\n"
          ],
          "name": "stderr"
        },
        {
          "output_type": "display_data",
          "data": {
            "image/png": "[encoded data removed]",
            "text/plain": [
              "<Figure size 1440x1080 with 10 Axes>"
            ]
          },
          "metadata": {
            "tags": []
          }
        }
      ]
    },
    {
      "cell_type": "code",
      "metadata": {
        "id": "pQY0Afm47oth"
      },
      "source": [
        "Balanced_full_df_X = Balanced_full_df.drop(['Class'], axis=1)\n",
        "Balanced_full_df_y = Balanced_full_df.Class"
      ],
      "execution_count": null,
      "outputs": []
    },
    {
      "cell_type": "code",
      "metadata": {
        "id": "kvX0wcd69ymP",
        "colab": {
          "base_uri": "https://localhost:8080/",
          "height": 194
        },
        "outputId": "547df018-1795-4a24-cb13-cfe7f6416f0a"
      },
      "source": [
        "Balanced_full_df_X.head()"
      ],
      "execution_count": null,
      "outputs": [
        {
          "output_type": "execute_result",
          "data": {
            "text/html": [
              "<div>\n",
              "<style scoped>\n",
              "    .dataframe tbody tr th:only-of-type {\n",
              "        vertical-align: middle;\n",
              "    }\n",
              "\n",
              "    .dataframe tbody tr th {\n",
              "        vertical-align: top;\n",
              "    }\n",
              "\n",
              "    .dataframe thead th {\n",
              "        text-align: right;\n",
              "    }\n",
              "</style>\n",
              "<table border=\"1\" class=\"dataframe\">\n",
              "  <thead>\n",
              "    <tr style=\"text-align: right;\">\n",
              "      <th></th>\n",
              "      <th>Clump_Thickness</th>\n",
              "      <th>Unif_Cell_Size</th>\n",
              "      <th>Unif_Cell_Shape</th>\n",
              "      <th>Marginal_Adhesion</th>\n",
              "      <th>Single_Epith_Cell_Size</th>\n",
              "      <th>Bare_Nuclei</th>\n",
              "      <th>Bland_Chromatin</th>\n",
              "      <th>Normal_Nucleoli</th>\n",
              "      <th>Mitoses</th>\n",
              "    </tr>\n",
              "  </thead>\n",
              "  <tbody>\n",
              "    <tr>\n",
              "      <th>0</th>\n",
              "      <td>8</td>\n",
              "      <td>10</td>\n",
              "      <td>10</td>\n",
              "      <td>10</td>\n",
              "      <td>7</td>\n",
              "      <td>5</td>\n",
              "      <td>4</td>\n",
              "      <td>8</td>\n",
              "      <td>7</td>\n",
              "    </tr>\n",
              "    <tr>\n",
              "      <th>1</th>\n",
              "      <td>10</td>\n",
              "      <td>8</td>\n",
              "      <td>8</td>\n",
              "      <td>4</td>\n",
              "      <td>10</td>\n",
              "      <td>10</td>\n",
              "      <td>8</td>\n",
              "      <td>1</td>\n",
              "      <td>1</td>\n",
              "    </tr>\n",
              "    <tr>\n",
              "      <th>2</th>\n",
              "      <td>8</td>\n",
              "      <td>10</td>\n",
              "      <td>10</td>\n",
              "      <td>8</td>\n",
              "      <td>6</td>\n",
              "      <td>9</td>\n",
              "      <td>3</td>\n",
              "      <td>10</td>\n",
              "      <td>10</td>\n",
              "    </tr>\n",
              "    <tr>\n",
              "      <th>3</th>\n",
              "      <td>5</td>\n",
              "      <td>5</td>\n",
              "      <td>7</td>\n",
              "      <td>8</td>\n",
              "      <td>6</td>\n",
              "      <td>10</td>\n",
              "      <td>7</td>\n",
              "      <td>4</td>\n",
              "      <td>1</td>\n",
              "    </tr>\n",
              "    <tr>\n",
              "      <th>4</th>\n",
              "      <td>5</td>\n",
              "      <td>4</td>\n",
              "      <td>6</td>\n",
              "      <td>8</td>\n",
              "      <td>4</td>\n",
              "      <td>1</td>\n",
              "      <td>8</td>\n",
              "      <td>10</td>\n",
              "      <td>1</td>\n",
              "    </tr>\n",
              "  </tbody>\n",
              "</table>\n",
              "</div>"
            ],
            "text/plain": [
              "   Clump_Thickness  Unif_Cell_Size  ...  Normal_Nucleoli  Mitoses\n",
              "0                8              10  ...                8        7\n",
              "1               10               8  ...                1        1\n",
              "2                8              10  ...               10       10\n",
              "3                5               5  ...                4        1\n",
              "4                5               4  ...               10        1\n",
              "\n",
              "[5 rows x 9 columns]"
            ]
          },
          "metadata": {
            "tags": []
          },
          "execution_count": 49
        }
      ]
    },
    {
      "cell_type": "code",
      "metadata": {
        "id": "3HEGc9QrE4fB"
      },
      "source": [
        "# Splitting Balanced_full_df into 70% and 30% to construct Training and Testing Data respectively.\n",
        "trainX, testX, trainy, testy = train_test_split(Balanced_full_df_X, Balanced_full_df_y,test_size=0.3,random_state=9)"
      ],
      "execution_count": null,
      "outputs": []
    },
    {
      "cell_type": "code",
      "metadata": {
        "id": "fZzLTC4bFQkr",
        "colab": {
          "base_uri": "https://localhost:8080/"
        },
        "outputId": "aafae97a-5291-44ff-b654-a38d4ca0b140"
      },
      "source": [
        "trainX.info()"
      ],
      "execution_count": null,
      "outputs": [
        {
          "output_type": "stream",
          "text": [
            "<class 'pandas.core.frame.DataFrame'>\n",
            "Int64Index: 621 entries, 379 to 382\n",
            "Data columns (total 9 columns):\n",
            " #   Column                  Non-Null Count  Dtype\n",
            "---  ------                  --------------  -----\n",
            " 0   Clump_Thickness         621 non-null    int64\n",
            " 1   Unif_Cell_Size          621 non-null    int64\n",
            " 2   Unif_Cell_Shape         621 non-null    int64\n",
            " 3   Marginal_Adhesion       621 non-null    int64\n",
            " 4   Single_Epith_Cell_Size  621 non-null    int64\n",
            " 5   Bare_Nuclei             621 non-null    int64\n",
            " 6   Bland_Chromatin         621 non-null    int64\n",
            " 7   Normal_Nucleoli         621 non-null    int64\n",
            " 8   Mitoses                 621 non-null    int64\n",
            "dtypes: int64(9)\n",
            "memory usage: 48.5 KB\n"
          ],
          "name": "stdout"
        }
      ]
    },
    {
      "cell_type": "code",
      "metadata": {
        "id": "EX_z9p6_F7_x",
        "colab": {
          "base_uri": "https://localhost:8080/"
        },
        "outputId": "82a3867b-ad2c-4a79-c6b0-08d98d0a8744"
      },
      "source": [
        "trainy.head()"
      ],
      "execution_count": null,
      "outputs": [
        {
          "output_type": "execute_result",
          "data": {
            "text/plain": [
              "379    4\n",
              "370    4\n",
              "851    2\n",
              "805    2\n",
              "257    4\n",
              "Name: Class, dtype: int64"
            ]
          },
          "metadata": {
            "tags": []
          },
          "execution_count": 64
        }
      ]
    },
    {
      "cell_type": "code",
      "metadata": {
        "id": "onY0EG9DFUh1",
        "colab": {
          "base_uri": "https://localhost:8080/"
        },
        "outputId": "7b667e86-8dae-488e-addf-ff9c6f0d52d5"
      },
      "source": [
        "testX.info()"
      ],
      "execution_count": null,
      "outputs": [
        {
          "output_type": "stream",
          "text": [
            "<class 'pandas.core.frame.DataFrame'>\n",
            "Int64Index: 267 entries, 40 to 288\n",
            "Data columns (total 9 columns):\n",
            " #   Column                  Non-Null Count  Dtype\n",
            "---  ------                  --------------  -----\n",
            " 0   Clump_Thickness         267 non-null    int64\n",
            " 1   Unif_Cell_Size          267 non-null    int64\n",
            " 2   Unif_Cell_Shape         267 non-null    int64\n",
            " 3   Marginal_Adhesion       267 non-null    int64\n",
            " 4   Single_Epith_Cell_Size  267 non-null    int64\n",
            " 5   Bare_Nuclei             267 non-null    int64\n",
            " 6   Bland_Chromatin         267 non-null    int64\n",
            " 7   Normal_Nucleoli         267 non-null    int64\n",
            " 8   Mitoses                 267 non-null    int64\n",
            "dtypes: int64(9)\n",
            "memory usage: 20.9 KB\n"
          ],
          "name": "stdout"
        }
      ]
    },
    {
      "cell_type": "code",
      "metadata": {
        "id": "ifTcS__WTbNY",
        "colab": {
          "base_uri": "https://localhost:8080/"
        },
        "outputId": "5e820cba-a519-45a0-e994-157d5659d45f"
      },
      "source": [
        "testy.head()"
      ],
      "execution_count": null,
      "outputs": [
        {
          "output_type": "execute_result",
          "data": {
            "text/plain": [
              "40     4\n",
              "694    2\n",
              "213    4\n",
              "459    2\n",
              "597    2\n",
              "Name: Class, dtype: int64"
            ]
          },
          "metadata": {
            "tags": []
          },
          "execution_count": 67
        }
      ]
    },
    {
      "cell_type": "markdown",
      "metadata": {
        "id": "9H_bpucdXIN3"
      },
      "source": [
        "# **Creating Decision Tree Classifier:**"
      ]
    },
    {
      "cell_type": "code",
      "metadata": {
        "id": "CSlax7fKOXhN",
        "colab": {
          "base_uri": "https://localhost:8080/"
        },
        "outputId": "e92d6261-10e3-426c-9896-e1c02034f06d"
      },
      "source": [
        "DT_Model = DecisionTreeClassifier(criterion = \"entropy\",splitter = \"random\", random_state = 99, max_depth=4, min_samples_leaf=5)  \n",
        "\n",
        "# Train the model using the training sets\n",
        "DT_Model.fit(trainX, trainy) "
      ],
      "execution_count": null,
      "outputs": [
        {
          "output_type": "execute_result",
          "data": {
            "text/plain": [
              "DecisionTreeClassifier(ccp_alpha=0.0, class_weight=None, criterion='entropy',\n",
              "                       max_depth=4, max_features=None, max_leaf_nodes=None,\n",
              "                       min_impurity_decrease=0.0, min_impurity_split=None,\n",
              "                       min_samples_leaf=5, min_samples_split=2,\n",
              "                       min_weight_fraction_leaf=0.0, presort='deprecated',\n",
              "                       random_state=99, splitter='random')"
            ]
          },
          "metadata": {
            "tags": []
          },
          "execution_count": 68
        }
      ]
    },
    {
      "cell_type": "markdown",
      "metadata": {
        "id": "LZRVKJwCfR1V"
      },
      "source": [
        "# **Creating Perceptron Classifier:**"
      ]
    },
    {
      "cell_type": "code",
      "metadata": {
        "colab": {
          "base_uri": "https://localhost:8080/"
        },
        "id": "B1DRKBroddwO",
        "outputId": "e5472ad1-1766-4841-e3fe-63aaac3a980f"
      },
      "source": [
        "percepton_model = Perceptron(max_iter=6000, eta0=100, random_state=0)\n",
        "\n",
        "# Train the perceptron using the training sets\n",
        "percepton_model.fit(trainX, trainy)"
      ],
      "execution_count": null,
      "outputs": [
        {
          "output_type": "execute_result",
          "data": {
            "text/plain": [
              "Perceptron(alpha=0.0001, class_weight=None, early_stopping=False, eta0=100,\n",
              "           fit_intercept=True, max_iter=6000, n_iter_no_change=5, n_jobs=None,\n",
              "           penalty=None, random_state=0, shuffle=True, tol=0.001,\n",
              "           validation_fraction=0.1, verbose=0, warm_start=False)"
            ]
          },
          "metadata": {
            "tags": []
          },
          "execution_count": 76
        }
      ]
    },
    {
      "cell_type": "markdown",
      "metadata": {
        "id": "WqQ-fshtrEDg"
      },
      "source": [
        "# **Creating K-Nearest Neighbour Classifier:**"
      ]
    },
    {
      "cell_type": "code",
      "metadata": {
        "colab": {
          "base_uri": "https://localhost:8080/"
        },
        "id": "9T90SyRBpZUj",
        "outputId": "0ac1c337-f860-4d13-ba53-ff86272b0874"
      },
      "source": [
        "KNN_Model = KNeighborsClassifier(n_neighbors = 4, weights ='distance')\n",
        "\n",
        "# Train the KNN Model using the training sets\n",
        "KNN_Model.fit(trainX, trainy)"
      ],
      "execution_count": null,
      "outputs": [
        {
          "output_type": "execute_result",
          "data": {
            "text/plain": [
              "KNeighborsClassifier(algorithm='auto', leaf_size=30, metric='minkowski',\n",
              "                     metric_params=None, n_jobs=None, n_neighbors=4, p=2,\n",
              "                     weights='distance')"
            ]
          },
          "metadata": {
            "tags": []
          },
          "execution_count": 99
        }
      ]
    },
    {
      "cell_type": "markdown",
      "metadata": {
        "id": "Ld8vjhGVVma6"
      },
      "source": [
        "# **Perform Prediction on Training Data:**"
      ]
    },
    {
      "cell_type": "code",
      "metadata": {
        "id": "AmjhTV4aT2wn"
      },
      "source": [
        "# Apply the trained Decision Tree Model to make prediction of train data\n",
        "DT_train_pred = DT_Model.predict(trainX)"
      ],
      "execution_count": null,
      "outputs": []
    },
    {
      "cell_type": "code",
      "metadata": {
        "id": "EMG2P2uOdul4"
      },
      "source": [
        "# Apply the trained perceptron to make prediction of train data\n",
        "percepton_train_pred = percepton_model.predict(trainX)"
      ],
      "execution_count": null,
      "outputs": []
    },
    {
      "cell_type": "code",
      "metadata": {
        "id": "U5lU8pc0qFKV"
      },
      "source": [
        "# Apply the trained KNN Model to make prediction of train data\n",
        "KNN_train_pred = KNN_Model.predict(trainX)"
      ],
      "execution_count": null,
      "outputs": []
    },
    {
      "cell_type": "markdown",
      "metadata": {
        "id": "3th_tConzvFT"
      },
      "source": [
        "# **Perform Prediction on Testing Data:**"
      ]
    },
    {
      "cell_type": "code",
      "metadata": {
        "id": "u3z6rYRpRE54"
      },
      "source": [
        "# Apply the trained Decision Tree Model to make prediction of test data\n",
        "DT_test_pred = DT_Model.predict(testX)"
      ],
      "execution_count": null,
      "outputs": []
    },
    {
      "cell_type": "code",
      "metadata": {
        "id": "0Z5wrXRgeBfp"
      },
      "source": [
        "# Apply the trained perceptron to make prediction of test data\n",
        "percepton_test_pred = percepton_model.predict(testX)"
      ],
      "execution_count": null,
      "outputs": []
    },
    {
      "cell_type": "code",
      "metadata": {
        "id": "RkQR3j6cqUps"
      },
      "source": [
        "# Apply the trained KNN Model to make prediction of test data\n",
        "KNN_test_pred = KNN_Model.predict(testX)"
      ],
      "execution_count": null,
      "outputs": []
    },
    {
      "cell_type": "markdown",
      "metadata": {
        "id": "8jtDKdBm9ZOu"
      },
      "source": [
        "# **Evaluation**"
      ]
    },
    {
      "cell_type": "markdown",
      "metadata": {
        "id": "_s1DjSmvVqci"
      },
      "source": [
        "### **On Training:**"
      ]
    },
    {
      "cell_type": "code",
      "metadata": {
        "id": "Pqws9xUoymp4",
        "colab": {
          "base_uri": "https://localhost:8080/"
        },
        "outputId": "ce8918d4-87aa-479e-afbf-97178ab3cfed"
      },
      "source": [
        "print(\"DT_Confusion Matrix:\")\n",
        "print(confusion_matrix(trainy, DT_train_pred))\n",
        "\n",
        "print(\"DT_Classification Report\")\n",
        "print(classification_report(trainy, DT_train_pred))"
      ],
      "execution_count": null,
      "outputs": [
        {
          "output_type": "stream",
          "text": [
            "DT_Confusion Matrix:\n",
            "[[290  16]\n",
            " [  6 309]]\n",
            "DT_Classification Report\n",
            "              precision    recall  f1-score   support\n",
            "\n",
            "           2       0.98      0.95      0.96       306\n",
            "           4       0.95      0.98      0.97       315\n",
            "\n",
            "    accuracy                           0.96       621\n",
            "   macro avg       0.97      0.96      0.96       621\n",
            "weighted avg       0.97      0.96      0.96       621\n",
            "\n"
          ],
          "name": "stdout"
        }
      ]
    },
    {
      "cell_type": "code",
      "metadata": {
        "colab": {
          "base_uri": "https://localhost:8080/"
        },
        "id": "Ws4cmj1EeNJF",
        "outputId": "fb220484-4d19-434b-acb6-48aefaf26731"
      },
      "source": [
        "print(\"Percepton Confusion Matrix:\")\n",
        "print(confusion_matrix(trainy, percepton_train_pred))\n",
        "\n",
        "print(\"Percepton Classification Report\")\n",
        "print(classification_report(trainy, percepton_train_pred))"
      ],
      "execution_count": null,
      "outputs": [
        {
          "output_type": "stream",
          "text": [
            "Percepton Confusion Matrix:\n",
            "[[298   8]\n",
            " [  9 306]]\n",
            "Percepton Classification Report\n",
            "              precision    recall  f1-score   support\n",
            "\n",
            "           2       0.97      0.97      0.97       306\n",
            "           4       0.97      0.97      0.97       315\n",
            "\n",
            "    accuracy                           0.97       621\n",
            "   macro avg       0.97      0.97      0.97       621\n",
            "weighted avg       0.97      0.97      0.97       621\n",
            "\n"
          ],
          "name": "stdout"
        }
      ]
    },
    {
      "cell_type": "code",
      "metadata": {
        "colab": {
          "base_uri": "https://localhost:8080/"
        },
        "id": "W-6_Jcgtqkne",
        "outputId": "808a1f8d-aece-4036-c557-3bdb3cdac627"
      },
      "source": [
        "print(\"KNN Confusion Matrix:\")\n",
        "print(confusion_matrix(trainy, KNN_train_pred))\n",
        "\n",
        "print(\"KNN Classification Report\")\n",
        "print(classification_report(trainy, KNN_train_pred))"
      ],
      "execution_count": null,
      "outputs": [
        {
          "output_type": "stream",
          "text": [
            "KNN Confusion Matrix:\n",
            "[[306   0]\n",
            " [  0 315]]\n",
            "KNN Classification Report\n",
            "              precision    recall  f1-score   support\n",
            "\n",
            "           2       1.00      1.00      1.00       306\n",
            "           4       1.00      1.00      1.00       315\n",
            "\n",
            "    accuracy                           1.00       621\n",
            "   macro avg       1.00      1.00      1.00       621\n",
            "weighted avg       1.00      1.00      1.00       621\n",
            "\n"
          ],
          "name": "stdout"
        }
      ]
    },
    {
      "cell_type": "markdown",
      "metadata": {
        "id": "p69GzxneVvTM"
      },
      "source": [
        "### **On Testing:**"
      ]
    },
    {
      "cell_type": "code",
      "metadata": {
        "id": "HiAd7sM8PHqk",
        "colab": {
          "base_uri": "https://localhost:8080/"
        },
        "outputId": "6d4af0f6-a8f4-4abc-98d3-885f1dcdf70c"
      },
      "source": [
        "print(\"DT_Confusion Matrix:\")\n",
        "print(confusion_matrix(testy, DT_test_predictions))\n",
        "\n",
        "print(\"DT_Classification Report\")\n",
        "print(classification_report(testy, DT_test_predictions))"
      ],
      "execution_count": null,
      "outputs": [
        {
          "output_type": "stream",
          "text": [
            "DT_Confusion Matrix:\n",
            "[[131   7]\n",
            " [  2 127]]\n",
            "DT_Classification Report\n",
            "              precision    recall  f1-score   support\n",
            "\n",
            "           2       0.98      0.95      0.97       138\n",
            "           4       0.95      0.98      0.97       129\n",
            "\n",
            "    accuracy                           0.97       267\n",
            "   macro avg       0.97      0.97      0.97       267\n",
            "weighted avg       0.97      0.97      0.97       267\n",
            "\n"
          ],
          "name": "stdout"
        }
      ]
    },
    {
      "cell_type": "code",
      "metadata": {
        "colab": {
          "base_uri": "https://localhost:8080/"
        },
        "id": "kKqhTJH_ekae",
        "outputId": "a758e6b1-7b23-4516-c6d3-82f1a8795714"
      },
      "source": [
        "print(\"Percepton Confusion Matrix:\")\n",
        "print(confusion_matrix(testy, percepton_test_pred))\n",
        "\n",
        "print(\"Percepton Classification Report\")\n",
        "print(classification_report(testy, percepton_test_pred))"
      ],
      "execution_count": null,
      "outputs": [
        {
          "output_type": "stream",
          "text": [
            "Percepton Confusion Matrix:\n",
            "[[134   4]\n",
            " [  2 127]]\n",
            "Percepton Classification Report\n",
            "              precision    recall  f1-score   support\n",
            "\n",
            "           2       0.99      0.97      0.98       138\n",
            "           4       0.97      0.98      0.98       129\n",
            "\n",
            "    accuracy                           0.98       267\n",
            "   macro avg       0.98      0.98      0.98       267\n",
            "weighted avg       0.98      0.98      0.98       267\n",
            "\n"
          ],
          "name": "stdout"
        }
      ]
    },
    {
      "cell_type": "code",
      "metadata": {
        "colab": {
          "base_uri": "https://localhost:8080/"
        },
        "id": "c96tZDrbq0sP",
        "outputId": "aea6addb-ceb4-4894-8f99-976696c9c60a"
      },
      "source": [
        "print(\"KNN Confusion Matrix:\")\n",
        "print(confusion_matrix(testy, KNN_test_pred))\n",
        "\n",
        "print(\"KNN Classification Report\")\n",
        "print(classification_report(testy, KNN_test_pred))"
      ],
      "execution_count": null,
      "outputs": [
        {
          "output_type": "stream",
          "text": [
            "KNN Confusion Matrix:\n",
            "[[135   3]\n",
            " [  1 128]]\n",
            "KNN Classification Report\n",
            "              precision    recall  f1-score   support\n",
            "\n",
            "           2       0.99      0.98      0.99       138\n",
            "           4       0.98      0.99      0.98       129\n",
            "\n",
            "    accuracy                           0.99       267\n",
            "   macro avg       0.98      0.99      0.99       267\n",
            "weighted avg       0.99      0.99      0.99       267\n",
            "\n"
          ],
          "name": "stdout"
        }
      ]
    },
    {
      "cell_type": "markdown",
      "metadata": {
        "id": "hX-EDpk1yJ2O"
      },
      "source": [
        "**Best Model Selected is K Nearest Neighbour which gives Accuracy of 100% on Training Data and 99% on Testing Data.**"
      ]
    },
    {
      "cell_type": "markdown",
      "metadata": {
        "id": "MWjBgW_dn3UQ"
      },
      "source": [
        "\n",
        "\n",
        "# **Predictions on Test Data:**"
      ]
    },
    {
      "cell_type": "code",
      "metadata": {
        "id": "xh_Ma3LR_RWq"
      },
      "source": [
        "OutputDF = pd.DataFrame({'Actual_class_of_breast_cancer':testy,'Predicted_class_of_breast_cancer':KNN_test_pred})"
      ],
      "execution_count": null,
      "outputs": []
    },
    {
      "cell_type": "code",
      "metadata": {
        "id": "voeGQWFC_umG",
        "colab": {
          "base_uri": "https://localhost:8080/",
          "height": 194
        },
        "outputId": "fd1bacc9-e1a8-4bd9-c835-323834ebe526"
      },
      "source": [
        "#Save to csv\n",
        "OutputDF.to_csv('breast_cancer_pred.csv',index=False)\n",
        "OutputDF.head()"
      ],
      "execution_count": null,
      "outputs": [
        {
          "output_type": "execute_result",
          "data": {
            "text/html": [
              "<div>\n",
              "<style scoped>\n",
              "    .dataframe tbody tr th:only-of-type {\n",
              "        vertical-align: middle;\n",
              "    }\n",
              "\n",
              "    .dataframe tbody tr th {\n",
              "        vertical-align: top;\n",
              "    }\n",
              "\n",
              "    .dataframe thead th {\n",
              "        text-align: right;\n",
              "    }\n",
              "</style>\n",
              "<table border=\"1\" class=\"dataframe\">\n",
              "  <thead>\n",
              "    <tr style=\"text-align: right;\">\n",
              "      <th></th>\n",
              "      <th>Actual_class_of_breast_cancer</th>\n",
              "      <th>Predicted_class_of_breast_cancer</th>\n",
              "    </tr>\n",
              "  </thead>\n",
              "  <tbody>\n",
              "    <tr>\n",
              "      <th>40</th>\n",
              "      <td>4</td>\n",
              "      <td>4</td>\n",
              "    </tr>\n",
              "    <tr>\n",
              "      <th>694</th>\n",
              "      <td>2</td>\n",
              "      <td>2</td>\n",
              "    </tr>\n",
              "    <tr>\n",
              "      <th>213</th>\n",
              "      <td>4</td>\n",
              "      <td>4</td>\n",
              "    </tr>\n",
              "    <tr>\n",
              "      <th>459</th>\n",
              "      <td>2</td>\n",
              "      <td>2</td>\n",
              "    </tr>\n",
              "    <tr>\n",
              "      <th>597</th>\n",
              "      <td>2</td>\n",
              "      <td>2</td>\n",
              "    </tr>\n",
              "  </tbody>\n",
              "</table>\n",
              "</div>"
            ],
            "text/plain": [
              "     Actual_class_of_breast_cancer  Predicted_class_of_breast_cancer\n",
              "40                               4                                 4\n",
              "694                              2                                 2\n",
              "213                              4                                 4\n",
              "459                              2                                 2\n",
              "597                              2                                 2"
            ]
          },
          "metadata": {
            "tags": []
          },
          "execution_count": 110
        }
      ]
    },
    {
      "cell_type": "markdown",
      "metadata": {
        "id": "2Ul0yliH26wK"
      },
      "source": [
        "**Thank you**,<br>\n",
        "Nikunj Bansal,<br>\n",
        "R177218063,<br>\n",
        "B2 Batch<br>"
      ]
    }
  ]
}